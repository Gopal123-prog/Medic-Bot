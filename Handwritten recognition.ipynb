{
 "cells": [
  {
   "cell_type": "code",
   "execution_count": null,
   "id": "2287f805",
   "metadata": {},
   "outputs": [],
   "source": [
    "## Imports necessary libraries"
   ]
  },
  {
   "cell_type": "code",
   "execution_count": null,
   "id": "2cd42af2",
   "metadata": {},
   "outputs": [],
   "source": [
    "from tensorflow.keras.layers import StringLookup\n",
    "from tensorflow import keras\n",
    "\n",
    "import matplotlib.pyplot as plt\n",
    "import tensorflow as tf\n",
    "import numpy as np\n",
    "import os\n",
    "\n",
    "np.random.seed(42)\n",
    "tf.random.set_seed(42)"
   ]
  },
  {
   "cell_type": "code",
   "execution_count": null,
   "id": "c1e47933",
   "metadata": {},
   "outputs": [],
   "source": [
    "## The code reads words from a text file, filters out certain lines, and shuffles the remaining words."
   ]
  },
  {
   "cell_type": "code",
   "execution_count": null,
   "id": "491b5f1a",
   "metadata": {},
   "outputs": [],
   "source": [
    "base_path = r'C:\\Users\\gopal\\Downloads\\final_year_project\\IAM_Words'\n",
    "words_list = []\n",
    "\n",
    "words = open(f\"{base_path}\\\\words.txt\", \"r\").readlines()\n",
    "for line in words:\n",
    "    if line[0] == \"#\":\n",
    "        continue\n",
    "    if line.split(\" \")[1] != \"err\": \n",
    "        words_list.append(line)\n",
    "\n",
    "len(words_list)\n",
    "\n",
    "np.random.shuffle(words_list)\n",
    "\n",
    "\n"
   ]
  },
  {
   "cell_type": "code",
   "execution_count": null,
   "id": "ff8aa672",
   "metadata": {},
   "outputs": [],
   "source": [
    "## The code splits a list of words into training, validation, and test samples,then prints the counts of samples in each split."
   ]
  },
  {
   "cell_type": "code",
   "execution_count": null,
   "id": "4b1fccdd",
   "metadata": {},
   "outputs": [],
   "source": [
    "split_idx = int(0.9 * len(words_list))\n",
    "train_samples = words_list[:split_idx]\n",
    "test_samples = words_list[split_idx:]\n",
    "\n",
    "val_split_idx = int(0.5 * len(test_samples))\n",
    "validation_samples = test_samples[:val_split_idx]\n",
    "test_samples = test_samples[val_split_idx:]\n",
    "\n",
    "assert len(words_list) == len(train_samples) + len(validation_samples) + len(\n",
    "    test_samples\n",
    ")\n",
    "\n",
    "print(f\"Total training samples: {len(train_samples)}\")\n",
    "print(f\"Total validation samples: {len(validation_samples)}\")\n",
    "print(f\"Total test samples: {len(test_samples)}\")"
   ]
  },
  {
   "cell_type": "code",
   "execution_count": null,
   "id": "ad67c014",
   "metadata": {},
   "outputs": [],
   "source": [
    "## Extract image paths and corresponding labels from sample data, then applies it to training, validation, and test samples"
   ]
  },
  {
   "cell_type": "code",
   "execution_count": null,
   "id": "667a58e0",
   "metadata": {},
   "outputs": [],
   "source": [
    "base_image_path = os.path.join(base_path, \"words\")\n",
    "\n",
    "\n",
    "def get_image_paths_and_labels(samples):\n",
    "    paths = []\n",
    "    corrected_samples = []\n",
    "    for (i, file_line) in enumerate(samples):\n",
    "        line_split = file_line.strip()\n",
    "        line_split = line_split.split(\" \")\n",
    "\n",
    "        # Each line split will have this format for the corresponding image:\n",
    "        # part1/part1-part2/part1-part2-part3.png\n",
    "        image_name = line_split[0]\n",
    "        partI = image_name.split(\"-\")[0]\n",
    "        partII = image_name.split(\"-\")[1]\n",
    "        img_path = os.path.join(\n",
    "            base_image_path, partI, partI + \"-\" + partII, image_name + \".png\"\n",
    "        )\n",
    "        if os.path.getsize(img_path):\n",
    "            paths.append(img_path)\n",
    "            corrected_samples.append(file_line.split(\"\\n\")[0])\n",
    "\n",
    "    return paths, corrected_samples\n",
    "\n",
    "\n",
    "train_img_paths, train_labels = get_image_paths_and_labels(train_samples)\n",
    "validation_img_paths, validation_labels = get_image_paths_and_labels(validation_samples)\n",
    "test_img_paths, test_labels = get_image_paths_and_labels(test_samples)\n",
    "train_img_paths = train_img_paths + ['C:\\\\Users\\\\gopal\\\\Downloads\\\\BulkResizePhotos\\\\a.jpg', 'C:\\\\Users\\\\gopal\\\\Downloads\\\\BulkResizePhotos\\\\about.jpg', 'C:\\\\Users\\\\gopal\\\\Downloads\\\\BulkResizePhotos\\\\Aciclover.jpg', 'C:\\\\Users\\\\gopal\\\\Downloads\\\\BulkResizePhotos\\\\Acrivastine.jpg', 'C:\\\\Users\\\\gopal\\\\Downloads\\\\BulkResizePhotos\\\\Adalimumab.jpg', 'C:\\\\Users\\\\gopal\\\\Downloads\\\\BulkResizePhotos\\\\Alendronic_acid.jpg', 'C:\\\\Users\\\\gopal\\\\Downloads\\\\BulkResizePhotos\\\\all.jpg', 'C:\\\\Users\\\\gopal\\\\Downloads\\\\BulkResizePhotos\\\\Allopurinol.jpg', 'C:\\\\Users\\\\gopal\\\\Downloads\\\\BulkResizePhotos\\\\Alogliptin.jpg', 'C:\\\\Users\\\\gopal\\\\Downloads\\\\BulkResizePhotos\\\\also.jpg', 'C:\\\\Users\\\\gopal\\\\Downloads\\\\BulkResizePhotos\\\\Amlodipine.jpg', 'C:\\\\Users\\\\gopal\\\\Downloads\\\\BulkResizePhotos\\\\Amoxicillin.jpg', 'C:\\\\Users\\\\gopal\\\\Downloads\\\\BulkResizePhotos\\\\Anastrozole.jpg', 'C:\\\\Users\\\\gopal\\\\Downloads\\\\BulkResizePhotos\\\\and.jpg', 'C:\\\\Users\\\\gopal\\\\Downloads\\\\BulkResizePhotos\\\\as.jpg', 'C:\\\\Users\\\\gopal\\\\Downloads\\\\BulkResizePhotos\\\\at.jpg', 'C:\\\\Users\\\\gopal\\\\Downloads\\\\BulkResizePhotos\\\\Atenolol.jpg', 'C:\\\\Users\\\\gopal\\\\Downloads\\\\BulkResizePhotos\\\\Atorvastatin.jpg', 'C:\\\\Users\\\\gopal\\\\Downloads\\\\BulkResizePhotos\\\\Azathioprine.jpg', 'C:\\\\Users\\\\gopal\\\\Downloads\\\\BulkResizePhotos\\\\Azithromycin.jpg', 'C:\\\\Users\\\\gopal\\\\Downloads\\\\BulkResizePhotos\\\\be.jpg', 'C:\\\\Users\\\\gopal\\\\Downloads\\\\BulkResizePhotos\\\\because.jpg', 'C:\\\\Users\\\\gopal\\\\Downloads\\\\BulkResizePhotos\\\\Bendroflumethiazide.jpg', 'C:\\\\Users\\\\gopal\\\\Downloads\\\\BulkResizePhotos\\\\Benzoyal_Peroxide.jpg', 'C:\\\\Users\\\\gopal\\\\Downloads\\\\BulkResizePhotos\\\\Betahistine.jpg', 'C:\\\\Users\\\\gopal\\\\Downloads\\\\BulkResizePhotos\\\\Betamethasone_tablets.jpg', 'C:\\\\Users\\\\gopal\\\\Downloads\\\\BulkResizePhotos\\\\Bimatoprost.jpg', 'C:\\\\Users\\\\gopal\\\\Downloads\\\\BulkResizePhotos\\\\Bisacodyl.jpg', 'C:\\\\Users\\\\gopal\\\\Downloads\\\\BulkResizePhotos\\\\Bisoprolol.jpg', 'C:\\\\Users\\\\gopal\\\\Downloads\\\\BulkResizePhotos\\\\blog.jpg', 'C:\\\\Users\\\\gopal\\\\Downloads\\\\BulkResizePhotos\\\\Brinzolamide.jpg', 'C:\\\\Users\\\\gopal\\\\Downloads\\\\BulkResizePhotos\\\\Bumetanide.jpg', 'C:\\\\Users\\\\gopal\\\\Downloads\\\\BulkResizePhotos\\\\Buscopan.jpg', 'C:\\\\Users\\\\gopal\\\\Downloads\\\\BulkResizePhotos\\\\but.jpg', 'C:\\\\Users\\\\gopal\\\\Downloads\\\\BulkResizePhotos\\\\by.jpg', 'C:\\\\Users\\\\gopal\\\\Downloads\\\\BulkResizePhotos\\\\Calcipotriol.jpg', 'C:\\\\Users\\\\gopal\\\\Downloads\\\\BulkResizePhotos\\\\came.jpg', 'C:\\\\Users\\\\gopal\\\\Downloads\\\\BulkResizePhotos\\\\can.jpg', 'C:\\\\Users\\\\gopal\\\\Downloads\\\\BulkResizePhotos\\\\Candesartan.jpg', 'C:\\\\Users\\\\gopal\\\\Downloads\\\\BulkResizePhotos\\\\Carbamazepine.jpg', 'C:\\\\Users\\\\gopal\\\\Downloads\\\\BulkResizePhotos\\\\Carbimazole.jpg', 'C:\\\\Users\\\\gopal\\\\Downloads\\\\BulkResizePhotos\\\\Carbocisteine.jpg', 'C:\\\\Users\\\\gopal\\\\Downloads\\\\BulkResizePhotos\\\\Carvedilol.jpg', 'C:\\\\Users\\\\gopal\\\\Downloads\\\\BulkResizePhotos\\\\Cefalexin.jpg', 'C:\\\\Users\\\\gopal\\\\Downloads\\\\BulkResizePhotos\\\\Champix.jpg', 'C:\\\\Users\\\\gopal\\\\Downloads\\\\BulkResizePhotos\\\\Chloramphenicol.jpg', 'C:\\\\Users\\\\gopal\\\\Downloads\\\\BulkResizePhotos\\\\Chlorhexidine.jpg', 'C:\\\\Users\\\\gopal\\\\Downloads\\\\BulkResizePhotos\\\\Ciprofloxacin.jpg', 'C:\\\\Users\\\\gopal\\\\Downloads\\\\BulkResizePhotos\\\\Citalopram.jpg', 'C:\\\\Users\\\\gopal\\\\Downloads\\\\BulkResizePhotos\\\\Clarithromycin.jpg', 'C:\\\\Users\\\\gopal\\\\Downloads\\\\BulkResizePhotos\\\\Clobetasol.jpg', 'C:\\\\Users\\\\gopal\\\\Downloads\\\\BulkResizePhotos\\\\Clobetasone.jpg', 'C:\\\\Users\\\\gopal\\\\Downloads\\\\BulkResizePhotos\\\\Clonazepam.jpg', 'C:\\\\Users\\\\gopal\\\\Downloads\\\\BulkResizePhotos\\\\Clonidine.jpg', 'C:\\\\Users\\\\gopal\\\\Downloads\\\\BulkResizePhotos\\\\Clopidogrel.jpg', 'C:\\\\Users\\\\gopal\\\\Downloads\\\\BulkResizePhotos\\\\Codeine.jpg', 'C:\\\\Users\\\\gopal\\\\Downloads\\\\BulkResizePhotos\\\\Colecalciferol.jpg', 'C:\\\\Users\\\\gopal\\\\Downloads\\\\BulkResizePhotos\\\\could.jpg', 'C:\\\\Users\\\\gopal\\\\Downloads\\\\BulkResizePhotos\\\\Cyanocobalamin.jpg', 'C:\\\\Users\\\\gopal\\\\Downloads\\\\BulkResizePhotos\\\\Cyclizine.jpg', 'C:\\\\Users\\\\gopal\\\\Downloads\\\\BulkResizePhotos\\\\Dabigatran.jpg', 'C:\\\\Users\\\\gopal\\\\Downloads\\\\BulkResizePhotos\\\\Dapagliflozin.jpg', 'C:\\\\Users\\\\gopal\\\\Downloads\\\\BulkResizePhotos\\\\day.jpg', 'C:\\\\Users\\\\gopal\\\\Downloads\\\\BulkResizePhotos\\\\Diazepam.jpg', 'C:\\\\Users\\\\gopal\\\\Downloads\\\\BulkResizePhotos\\\\Diclofenac.jpg', 'C:\\\\Users\\\\gopal\\\\Downloads\\\\BulkResizePhotos\\\\Digoxin.jpg', 'C:\\\\Users\\\\gopal\\\\Downloads\\\\BulkResizePhotos\\\\Dihydrocodeine.jpg', 'C:\\\\Users\\\\gopal\\\\Downloads\\\\BulkResizePhotos\\\\Diltiazem.jpg', 'C:\\\\Users\\\\gopal\\\\Downloads\\\\BulkResizePhotos\\\\Diphenhydramine.jpg', 'C:\\\\Users\\\\gopal\\\\Downloads\\\\BulkResizePhotos\\\\Dipyridamole.jpg', 'C:\\\\Users\\\\gopal\\\\Downloads\\\\BulkResizePhotos\\\\do.jpg', 'C:\\\\Users\\\\gopal\\\\Downloads\\\\BulkResizePhotos\\\\Docusate.jpg', 'C:\\\\Users\\\\gopal\\\\Downloads\\\\BulkResizePhotos\\\\Domperidone.jpg', 'C:\\\\Users\\\\gopal\\\\Downloads\\\\BulkResizePhotos\\\\Donepezil.jpg', 'C:\\\\Users\\\\gopal\\\\Downloads\\\\BulkResizePhotos\\\\Dosulepin.jpg', 'C:\\\\Users\\\\gopal\\\\Downloads\\\\BulkResizePhotos\\\\Doxazosin.jpg', 'C:\\\\Users\\\\gopal\\\\Downloads\\\\BulkResizePhotos\\\\Doxycycline.jpg', 'C:\\\\Users\\\\gopal\\\\Downloads\\\\BulkResizePhotos\\\\Duloxetine.jpg', 'C:\\\\Users\\\\gopal\\\\Downloads\\\\BulkResizePhotos\\\\Edoxaban.jpg', 'C:\\\\Users\\\\gopal\\\\Downloads\\\\BulkResizePhotos\\\\Empagliflozin.jpg', 'C:\\\\Users\\\\gopal\\\\Downloads\\\\BulkResizePhotos\\\\Enalapril.jpg', 'C:\\\\Users\\\\gopal\\\\Downloads\\\\BulkResizePhotos\\\\english.jpg', 'C:\\\\Users\\\\gopal\\\\Downloads\\\\BulkResizePhotos\\\\Eplerenone.jpg', 'C:\\\\Users\\\\gopal\\\\Downloads\\\\BulkResizePhotos\\\\Erythromycin.jpg', 'C:\\\\Users\\\\gopal\\\\Downloads\\\\BulkResizePhotos\\\\Escitalopram.jpg', 'C:\\\\Users\\\\gopal\\\\Downloads\\\\BulkResizePhotos\\\\Esomeprazole.jpg', 'C:\\\\Users\\\\gopal\\\\Downloads\\\\BulkResizePhotos\\\\even.jpg', 'C:\\\\Users\\\\gopal\\\\Downloads\\\\BulkResizePhotos\\\\Ezetimibe.jpg', 'C:\\\\Users\\\\gopal\\\\Downloads\\\\BulkResizePhotos\\\\Felodipine.jpg', 'C:\\\\Users\\\\gopal\\\\Downloads\\\\BulkResizePhotos\\\\Fentanyl.jpg', 'C:\\\\Users\\\\gopal\\\\Downloads\\\\BulkResizePhotos\\\\Ferrous fumarate.jpg', 'C:\\\\Users\\\\gopal\\\\Downloads\\\\BulkResizePhotos\\\\Ferrous sulfate.jpg', 'C:\\\\Users\\\\gopal\\\\Downloads\\\\BulkResizePhotos\\\\Finasteride.jpg', 'C:\\\\Users\\\\gopal\\\\Downloads\\\\BulkResizePhotos\\\\find.jpg', 'C:\\\\Users\\\\gopal\\\\Downloads\\\\BulkResizePhotos\\\\first.jpg', 'C:\\\\Users\\\\gopal\\\\Downloads\\\\BulkResizePhotos\\\\Flucloxacillin.jpg', 'C:\\\\Users\\\\gopal\\\\Downloads\\\\BulkResizePhotos\\\\Fluconazole.jpg', 'C:\\\\Users\\\\gopal\\\\Downloads\\\\BulkResizePhotos\\\\Fluoxetine .jpg', 'C:\\\\Users\\\\gopal\\\\Downloads\\\\BulkResizePhotos\\\\Fluticasone .jpg', 'C:\\\\Users\\\\gopal\\\\Downloads\\\\BulkResizePhotos\\\\Folic acid.jpg', 'C:\\\\Users\\\\gopal\\\\Downloads\\\\BulkResizePhotos\\\\for.jpg', 'C:\\\\Users\\\\gopal\\\\Downloads\\\\BulkResizePhotos\\\\from.jpg', 'C:\\\\Users\\\\gopal\\\\Downloads\\\\BulkResizePhotos\\\\Furosemide.jpg', 'C:\\\\Users\\\\gopal\\\\Downloads\\\\BulkResizePhotos\\\\Fusidic acid.jpg', 'C:\\\\Users\\\\gopal\\\\Downloads\\\\BulkResizePhotos\\\\Fybogel .jpg', 'C:\\\\Users\\\\gopal\\\\Downloads\\\\BulkResizePhotos\\\\Gabapentin.jpg', 'C:\\\\Users\\\\gopal\\\\Downloads\\\\BulkResizePhotos\\\\Gaviscon.jpg', 'C:\\\\Users\\\\gopal\\\\Downloads\\\\BulkResizePhotos\\\\get.jpg', 'C:\\\\Users\\\\gopal\\\\Downloads\\\\BulkResizePhotos\\\\give.jpg', 'C:\\\\Users\\\\gopal\\\\Downloads\\\\BulkResizePhotos\\\\Gliclazide.jpg', 'C:\\\\Users\\\\gopal\\\\Downloads\\\\BulkResizePhotos\\\\Glimepiride.jpg', 'C:\\\\Users\\\\gopal\\\\Downloads\\\\BulkResizePhotos\\\\Glyceryl .jpg', 'C:\\\\Users\\\\gopal\\\\Downloads\\\\BulkResizePhotos\\\\go.jpg', 'C:\\\\Users\\\\gopal\\\\Downloads\\\\BulkResizePhotos\\\\Haloperidol.jpg', 'C:\\\\Users\\\\gopal\\\\Downloads\\\\BulkResizePhotos\\\\have.jpg', 'C:\\\\Users\\\\gopal\\\\Downloads\\\\BulkResizePhotos\\\\he.jpg', 'C:\\\\Users\\\\gopal\\\\Downloads\\\\BulkResizePhotos\\\\Heparinoid.jpg', 'C:\\\\Users\\\\gopal\\\\Downloads\\\\BulkResizePhotos\\\\her.jpg', 'C:\\\\Users\\\\gopal\\\\Downloads\\\\BulkResizePhotos\\\\here.jpg', 'C:\\\\Users\\\\gopal\\\\Downloads\\\\BulkResizePhotos\\\\him.jpg', 'C:\\\\Users\\\\gopal\\\\Downloads\\\\BulkResizePhotos\\\\his.jpg', 'C:\\\\Users\\\\gopal\\\\Downloads\\\\BulkResizePhotos\\\\how.jpg', 'C:\\\\Users\\\\gopal\\\\Downloads\\\\BulkResizePhotos\\\\Hydrocortisone.jpg', 'C:\\\\Users\\\\gopal\\\\Downloads\\\\BulkResizePhotos\\\\Hydroxocobalamin.jpg', 'C:\\\\Users\\\\gopal\\\\Downloads\\\\BulkResizePhotos\\\\Hydroxychloroquine.jpg', 'C:\\\\Users\\\\gopal\\\\Downloads\\\\BulkResizePhotos\\\\i.jpg', 'C:\\\\Users\\\\gopal\\\\Downloads\\\\BulkResizePhotos\\\\Ibuprofen and codeine.jpg', 'C:\\\\Users\\\\gopal\\\\Downloads\\\\BulkResizePhotos\\\\if.jpg', 'C:\\\\Users\\\\gopal\\\\Downloads\\\\BulkResizePhotos\\\\in.jpg', 'C:\\\\Users\\\\gopal\\\\Downloads\\\\BulkResizePhotos\\\\Indapamide.jpg', 'C:\\\\Users\\\\gopal\\\\Downloads\\\\BulkResizePhotos\\\\Insulin.jpg', 'C:\\\\Users\\\\gopal\\\\Downloads\\\\BulkResizePhotos\\\\into.jpg', 'C:\\\\Users\\\\gopal\\\\Downloads\\\\BulkResizePhotos\\\\Irbesartan.jpg', 'C:\\\\Users\\\\gopal\\\\Downloads\\\\BulkResizePhotos\\\\Isotretinoin gel .jpg', 'C:\\\\Users\\\\gopal\\\\Downloads\\\\BulkResizePhotos\\\\it.jpg', 'C:\\\\Users\\\\gopal\\\\Downloads\\\\BulkResizePhotos\\\\its.jpg', 'C:\\\\Users\\\\gopal\\\\Downloads\\\\BulkResizePhotos\\\\just.jpg', 'C:\\\\Users\\\\gopal\\\\Downloads\\\\BulkResizePhotos\\\\Ketoconazole.jpg', 'C:\\\\Users\\\\gopal\\\\Downloads\\\\BulkResizePhotos\\\\know.jpg', 'C:\\\\Users\\\\gopal\\\\Downloads\\\\BulkResizePhotos\\\\Labetalol.jpg', 'C:\\\\Users\\\\gopal\\\\Downloads\\\\BulkResizePhotos\\\\Lactulose.jpg', 'C:\\\\Users\\\\gopal\\\\Downloads\\\\BulkResizePhotos\\\\Lamotrigine.jpg', 'C:\\\\Users\\\\gopal\\\\Downloads\\\\BulkResizePhotos\\\\Lansoprazole.jpg', 'C:\\\\Users\\\\gopal\\\\Downloads\\\\BulkResizePhotos\\\\Latanoprost.jpg', 'C:\\\\Users\\\\gopal\\\\Downloads\\\\BulkResizePhotos\\\\Lercanidipine.jpg', 'C:\\\\Users\\\\gopal\\\\Downloads\\\\BulkResizePhotos\\\\Letrozole.jpg', 'C:\\\\Users\\\\gopal\\\\Downloads\\\\BulkResizePhotos\\\\Levetiracetam.jpg', 'C:\\\\Users\\\\gopal\\\\Downloads\\\\BulkResizePhotos\\\\Levothyroxine.jpg', 'C:\\\\Users\\\\gopal\\\\Downloads\\\\BulkResizePhotos\\\\like.jpg', 'C:\\\\Users\\\\gopal\\\\Downloads\\\\BulkResizePhotos\\\\Linagliptin.jpg', 'C:\\\\Users\\\\gopal\\\\Downloads\\\\BulkResizePhotos\\\\Lisinopril.jpg', 'C:\\\\Users\\\\gopal\\\\Downloads\\\\BulkResizePhotos\\\\Lithium.jpg', 'C:\\\\Users\\\\gopal\\\\Downloads\\\\BulkResizePhotos\\\\look.jpg', 'C:\\\\Users\\\\gopal\\\\Downloads\\\\BulkResizePhotos\\\\Loperamide.jpg', 'C:\\\\Users\\\\gopal\\\\Downloads\\\\BulkResizePhotos\\\\Loratadine .jpg', 'C:\\\\Users\\\\gopal\\\\Downloads\\\\BulkResizePhotos\\\\Lorazepam.jpg','C:\\\\Users\\\\gopal\\\\Downloads\\\\BulkResizePhotos\\\\Losartan.jpg', 'C:\\\\Users\\\\gopal\\\\Downloads\\\\BulkResizePhotos\\\\Low-dose aspirin.jpg', 'C:\\\\Users\\\\gopal\\\\Downloads\\\\BulkResizePhotos\\\\Lymecycline.jpg', 'C:\\\\Users\\\\gopal\\\\Downloads\\\\BulkResizePhotos\\\\Macrogol.jpg', 'C:\\\\Users\\\\gopal\\\\Downloads\\\\BulkResizePhotos\\\\make.jpg', 'C:\\\\Users\\\\gopal\\\\Downloads\\\\BulkResizePhotos\\\\man.jpg', 'C:\\\\Users\\\\gopal\\\\Downloads\\\\BulkResizePhotos\\\\many.jpg', 'C:\\\\Users\\\\gopal\\\\Downloads\\\\BulkResizePhotos\\\\me.jpg', 'C:\\\\Users\\\\gopal\\\\Downloads\\\\BulkResizePhotos\\\\Mebendazole.jpg', 'C:\\\\Users\\\\gopal\\\\Downloads\\\\BulkResizePhotos\\\\Mebeverine.jpg', 'C:\\\\Users\\\\gopal\\\\Downloads\\\\BulkResizePhotos\\\\Melatonin.jpg', 'C:\\\\Users\\\\gopal\\\\Downloads\\\\BulkResizePhotos\\\\Memantine.jpg', 'C:\\\\Users\\\\gopal\\\\Downloads\\\\BulkResizePhotos\\\\Mesalazine.jpg', 'C:\\\\Users\\\\gopal\\\\Downloads\\\\BulkResizePhotos\\\\Metformin.jpg', 'C:\\\\Users\\\\gopal\\\\Downloads\\\\BulkResizePhotos\\\\Methadone.jpg', 'C:\\\\Users\\\\gopal\\\\Downloads\\\\BulkResizePhotos\\\\Methotrexate.jpg', 'C:\\\\Users\\\\gopal\\\\Downloads\\\\BulkResizePhotos\\\\Metoclopramide.jpg', 'C:\\\\Users\\\\gopal\\\\Downloads\\\\BulkResizePhotos\\\\Metoprolol.jpg', 'C:\\\\Users\\\\gopal\\\\Downloads\\\\BulkResizePhotos\\\\Metronidazole.jpg', 'C:\\\\Users\\\\gopal\\\\Downloads\\\\BulkResizePhotos\\\\Mirabegron.jpg', 'C:\\\\Users\\\\gopal\\\\Downloads\\\\BulkResizePhotos\\\\Mirtazapine.jpg', 'C:\\\\Users\\\\gopal\\\\Downloads\\\\BulkResizePhotos\\\\Molnupiravir.jpg', 'C:\\\\Users\\\\gopal\\\\Downloads\\\\BulkResizePhotos\\\\Montelukast.jpg', 'C:\\\\Users\\\\gopal\\\\Downloads\\\\BulkResizePhotos\\\\more.jpg', 'C:\\\\Users\\\\gopal\\\\Downloads\\\\BulkResizePhotos\\\\Morphine.jpg', 'C:\\\\Users\\\\gopal\\\\Downloads\\\\BulkResizePhotos\\\\most.jpg', 'C:\\\\Users\\\\gopal\\\\Downloads\\\\BulkResizePhotos\\\\my.jpg', 'C:\\\\Users\\\\gopal\\\\Downloads\\\\BulkResizePhotos\\\\Naproxen.jpg', 'C:\\\\Users\\\\gopal\\\\Downloads\\\\BulkResizePhotos\\\\Nefopam.jpg', 'C:\\\\Users\\\\gopal\\\\Downloads\\\\BulkResizePhotos\\\\new.jpg', 'C:\\\\Users\\\\gopal\\\\Downloads\\\\BulkResizePhotos\\\\Nicorandil.jpg', 'C:\\\\Users\\\\gopal\\\\Downloads\\\\BulkResizePhotos\\\\Nifedipine.jpg', 'C:\\\\Users\\\\gopal\\\\Downloads\\\\BulkResizePhotos\\\\Nitrofurantoin.jpg', 'C:\\\\Users\\\\gopal\\\\Downloads\\\\BulkResizePhotos\\\\no.jpg', 'C:\\\\Users\\\\gopal\\\\Downloads\\\\BulkResizePhotos\\\\Nortriptyline.jpg', 'C:\\\\Users\\\\gopal\\\\Downloads\\\\BulkResizePhotos\\\\not.jpg', 'C:\\\\Users\\\\gopal\\\\Downloads\\\\BulkResizePhotos\\\\now.jpg', 'C:\\\\Users\\\\gopal\\\\Downloads\\\\BulkResizePhotos\\\\Nystatin.jpg', 'C:\\\\Users\\\\gopal\\\\Downloads\\\\BulkResizePhotos\\\\of.jpg', 'C:\\\\Users\\\\gopal\\\\Downloads\\\\BulkResizePhotos\\\\Olanzapine.jpg', 'C:\\\\Users\\\\gopal\\\\Downloads\\\\BulkResizePhotos\\\\Olmesartan.jpg', 'C:\\\\Users\\\\gopal\\\\Downloads\\\\BulkResizePhotos\\\\Omeprazole.jpg', 'C:\\\\Users\\\\gopal\\\\Downloads\\\\BulkResizePhotos\\\\on.jpg', 'C:\\\\Users\\\\gopal\\\\Downloads\\\\BulkResizePhotos\\\\one.jpg', 'C:\\\\Users\\\\gopal\\\\Downloads\\\\BulkResizePhotos\\\\only.jpg', 'C:\\\\Users\\\\gopal\\\\Downloads\\\\BulkResizePhotos\\\\or.jpg', 'C:\\\\Users\\\\gopal\\\\Downloads\\\\BulkResizePhotos\\\\other.jpg', 'C:\\\\Users\\\\gopal\\\\Downloads\\\\BulkResizePhotos\\\\our.jpg', 'C:\\\\Users\\\\gopal\\\\Downloads\\\\BulkResizePhotos\\\\out.jpg', 'C:\\\\Users\\\\gopal\\\\Downloads\\\\BulkResizePhotos\\\\Oxybutynin.jpg', 'C:\\\\Users\\\\gopal\\\\Downloads\\\\BulkResizePhotos\\\\Oxycodone.jpg', 'C:\\\\Users\\\\gopal\\\\Downloads\\\\BulkResizePhotos\\\\Pantoprazole.jpg', 'C:\\\\Users\\\\gopal\\\\Downloads\\\\BulkResizePhotos\\\\Paroxetine.jpg', 'C:\\\\Users\\\\gopal\\\\Downloads\\\\BulkResizePhotos\\\\Paxlovid.jpg', 'C:\\\\Users\\\\gopal\\\\Downloads\\\\BulkResizePhotos\\\\people.jpg', 'C:\\\\Users\\\\gopal\\\\Downloads\\\\BulkResizePhotos\\\\Peppermint oil.jpg', 'C:\\\\Users\\\\gopal\\\\Downloads\\\\BulkResizePhotos\\\\Perindopril.jpg', 'C:\\\\Users\\\\gopal\\\\Downloads\\\\BulkResizePhotos\\\\Phenytoin.jpg', 'C:\\\\Users\\\\gopal\\\\Downloads\\\\BulkResizePhotos\\\\Pioglitazone.jpg', 'C:\\\\Users\\\\gopal\\\\Downloads\\\\BulkResizePhotos\\\\Pravastatin.jpg', 'C:\\\\Users\\\\gopal\\\\Downloads\\\\BulkResizePhotos\\\\Pregabalin.jpg', 'C:\\\\Users\\\\gopal\\\\Downloads\\\\BulkResizePhotos\\\\Prochlorperazine.jpg', 'C:\\\\Users\\\\gopal\\\\Downloads\\\\BulkResizePhotos\\\\Propranolol.jpg', 'C:\\\\Users\\\\gopal\\\\Downloads\\\\BulkResizePhotos\\\\Quetiapine.jpg', 'C:\\\\Users\\\\gopal\\\\Downloads\\\\BulkResizePhotos\\\\Rabeprazole.jpg', 'C:\\\\Users\\\\gopal\\\\Downloads\\\\BulkResizePhotos\\\\Ramipril.jpg', 'C:\\\\Users\\\\gopal\\\\Downloads\\\\BulkResizePhotos\\\\Ranitidine.jpg', 'C:\\\\Users\\\\gopal\\\\Downloads\\\\BulkResizePhotos\\\\Remdesivir .jpg', 'C:\\\\Users\\\\gopal\\\\Downloads\\\\BulkResizePhotos\\\\Risedronate.jpg', 'C:\\\\Users\\\\gopal\\\\Downloads\\\\BulkResizePhotos\\\\Risperidone.jpg', 'C:\\\\Users\\\\gopal\\\\Downloads\\\\BulkResizePhotos\\\\Rivaroxaban.jpg', 'C:\\\\Users\\\\gopal\\\\Downloads\\\\BulkResizePhotos\\\\Ropinirole.jpg', 'C:\\\\Users\\\\gopal\\\\Downloads\\\\BulkResizePhotos\\\\Rosuvastatin.jpg', 'C:\\\\Users\\\\gopal\\\\Downloads\\\\BulkResizePhotos\\\\Saxagliptin.jpg', 'C:\\\\Users\\\\gopal\\\\Downloads\\\\BulkResizePhotos\\\\say.jpg', 'C:\\\\Users\\\\gopal\\\\Downloads\\\\BulkResizePhotos\\\\see.jpg', 'C:\\\\Users\\\\gopal\\\\Downloads\\\\BulkResizePhotos\\\\Senna.jpg', 'C:\\\\Users\\\\gopal\\\\Downloads\\\\BulkResizePhotos\\\\Sertraline.jpg', 'C:\\\\Users\\\\gopal\\\\Downloads\\\\BulkResizePhotos\\\\she.jpg', 'C:\\\\Users\\\\gopal\\\\Downloads\\\\BulkResizePhotos\\\\Sildenafil.jpg', 'C:\\\\Users\\\\gopal\\\\Downloads\\\\BulkResizePhotos\\\\Simeticone.jpg', 'C:\\\\Users\\\\gopal\\\\Downloads\\\\BulkResizePhotos\\\\Simvastatin.jpg', 'C:\\\\Users\\\\gopal\\\\Downloads\\\\BulkResizePhotos\\\\Sitagliptin.jpg', 'C:\\\\Users\\\\gopal\\\\Downloads\\\\BulkResizePhotos\\\\so.jpg', 'C:\\\\Users\\\\gopal\\\\Downloads\\\\BulkResizePhotos\\\\Solifenacin.jpg', 'C:\\\\Users\\\\gopal\\\\Downloads\\\\BulkResizePhotos\\\\some.jpg', 'C:\\\\Users\\\\gopal\\\\Downloads\\\\BulkResizePhotos\\\\Sotalol.jpg', 'C:\\\\Users\\\\gopal\\\\Downloads\\\\BulkResizePhotos\\\\Sotrovimab.jpg', 'C:\\\\Users\\\\gopal\\\\Downloads\\\\BulkResizePhotos\\\\Spironolactone.jpg', 'C:\\\\Users\\\\gopal\\\\Downloads\\\\BulkResizePhotos\\\\Sulfasalazine.jpg', 'C:\\\\Users\\\\gopal\\\\Downloads\\\\BulkResizePhotos\\\\Sumatriptan.jpg', 'C:\\\\Users\\\\gopal\\\\Downloads\\\\BulkResizePhotos\\\\Tadalafil.jpg', 'C:\\\\Users\\\\gopal\\\\Downloads\\\\BulkResizePhotos\\\\take.jpg', 'C:\\\\Users\\\\gopal\\\\Downloads\\\\BulkResizePhotos\\\\Tamsulosin.jpg', 'C:\\\\Users\\\\gopal\\\\Downloads\\\\BulkResizePhotos\\\\tell.jpg', 'C:\\\\Users\\\\gopal\\\\Downloads\\\\BulkResizePhotos\\\\Temazepam.jpg', 'C:\\\\Users\\\\gopal\\\\Downloads\\\\BulkResizePhotos\\\\Terbinafine.jpg', 'C:\\\\Users\\\\gopal\\\\Downloads\\\\BulkResizePhotos\\\\than.jpg', 'C:\\\\Users\\\\gopal\\\\Downloads\\\\BulkResizePhotos\\\\that.jpg', 'C:\\\\Users\\\\gopal\\\\Downloads\\\\BulkResizePhotos\\\\the.jpg', 'C:\\\\Users\\\\gopal\\\\Downloads\\\\BulkResizePhotos\\\\their.jpg', 'C:\\\\Users\\\\gopal\\\\Downloads\\\\BulkResizePhotos\\\\them.jpg', 'C:\\\\Users\\\\gopal\\\\Downloads\\\\BulkResizePhotos\\\\then.jpg', 'C:\\\\Users\\\\gopal\\\\Downloads\\\\BulkResizePhotos\\\\there.jpg', 'C:\\\\Users\\\\gopal\\\\Downloads\\\\BulkResizePhotos\\\\these.jpg', 'C:\\\\Users\\\\gopal\\\\Downloads\\\\BulkResizePhotos\\\\they.jpg', 'C:\\\\Users\\\\gopal\\\\Downloads\\\\BulkResizePhotos\\\\Thiamine.jpg', 'C:\\\\Users\\\\gopal\\\\Downloads\\\\BulkResizePhotos\\\\thing.jpg', 'C:\\\\Users\\\\gopal\\\\Downloads\\\\BulkResizePhotos\\\\think.jpg', 'C:\\\\Users\\\\gopal\\\\Downloads\\\\BulkResizePhotos\\\\this.jpg', 'C:\\\\Users\\\\gopal\\\\Downloads\\\\BulkResizePhotos\\\\those.jpg', 'C:\\\\Users\\\\gopal\\\\Downloads\\\\BulkResizePhotos\\\\Tibolone.jpg', 'C:\\\\Users\\\\gopal\\\\Downloads\\\\BulkResizePhotos\\\\Ticagrelor.jpg', 'C:\\\\Users\\\\gopal\\\\Downloads\\\\BulkResizePhotos\\\\time.jpg', 'C:\\\\Users\\\\gopal\\\\Downloads\\\\BulkResizePhotos\\\\Timolol tablets.jpg', 'C:\\\\Users\\\\gopal\\\\Downloads\\\\BulkResizePhotos\\\\to.jpg', 'C:\\\\Users\\\\gopal\\\\Downloads\\\\BulkResizePhotos\\\\Tolterodine.jpg', 'C:\\\\Users\\\\gopal\\\\Downloads\\\\BulkResizePhotos\\\\Topiramate.jpg', 'C:\\\\Users\\\\gopal\\\\Downloads\\\\BulkResizePhotos\\\\Tramadol.jpg', 'C:\\\\Users\\\\gopal\\\\Downloads\\\\BulkResizePhotos\\\\Tranexamic acid.jpg', 'C:\\\\Users\\\\gopal\\\\Downloads\\\\BulkResizePhotos\\\\Trazodone.jpg', 'C:\\\\Users\\\\gopal\\\\Downloads\\\\BulkResizePhotos\\\\Trimethoprim.jpg', 'C:\\\\Users\\\\gopal\\\\Downloads\\\\BulkResizePhotos\\\\two.jpg', 'C:\\\\Users\\\\gopal\\\\Downloads\\\\BulkResizePhotos\\\\up.jpg', 'C:\\\\Users\\\\gopal\\\\Downloads\\\\BulkResizePhotos\\\\use.jpg', 'C:\\\\Users\\\\gopal\\\\Downloads\\\\BulkResizePhotos\\\\used.jpg', 'C:\\\\Users\\\\gopal\\\\Downloads\\\\BulkResizePhotos\\\\very.jpg', 'C:\\\\Users\\\\gopal\\\\Downloads\\\\BulkResizePhotos\\\\want.jpg', 'C:\\\\Users\\\\gopal\\\\Downloads\\\\BulkResizePhotos\\\\we.jpg', 'C:\\\\Users\\\\gopal\\\\Downloads\\\\BulkResizePhotos\\\\well.jpg', 'C:\\\\Users\\\\gopal\\\\Downloads\\\\BulkResizePhotos\\\\what.jpg', 'C:\\\\Users\\\\gopal\\\\Downloads\\\\BulkResizePhotos\\\\when.jpg', 'C:\\\\Users\\\\gopal\\\\Downloads\\\\BulkResizePhotos\\\\which.jpg', 'C:\\\\Users\\\\gopal\\\\Downloads\\\\BulkResizePhotos\\\\will.jpg', 'C:\\\\Users\\\\gopal\\\\Downloads\\\\BulkResizePhotos\\\\with.jpg']"
   ]
  },
  {
   "cell_type": "code",
   "execution_count": null,
   "id": "4bbf33b1",
   "metadata": {},
   "outputs": [],
   "source": [
    "## Find the length of longest word and total no.of different characters in the training samples."
   ]
  },
  {
   "cell_type": "code",
   "execution_count": null,
   "id": "e23eef5c",
   "metadata": {},
   "outputs": [],
   "source": [
    "train_labels_cleaned = []\n",
    "characters = set()\n",
    "max_len = 0\n",
    "\n",
    "for label in train_labels:\n",
    "    label = label.split(\" \")[-1].strip()\n",
    "    for char in label:\n",
    "        characters.add(char)\n",
    "\n",
    "    max_len = max(max_len, len(label))\n",
    "    train_labels_cleaned.append(label)\n",
    "\n",
    "characters = sorted(list(characters))\n",
    "\n",
    "print(\"Maximum length: \", max_len)\n",
    "print(\"Vocab size: \", len(characters))\n",
    "\n",
    "\n",
    "train_labels_cleaned = train_labels_cleaned + ['a', 'about', 'Aciclover', 'Acrivastine', 'Adalimumab', 'Alendronic_acid', 'all', 'Allopurinol', 'Alogliptin', 'also', 'Amlodipine', 'Amoxicillin', 'Anastrozole', 'and', 'as', 'at', 'Atenolol', 'Atorvastatin', 'Azathioprine', 'Azithromycin', 'be', 'because', 'Bendroflumethiazide', 'Benzoyal_Peroxide', 'Betahistine', 'Betamethasone_tablets', 'Bimatoprost', 'Bisacodyl', 'Bisoprolol', 'blog', 'Brinzolamide', 'Bumetanide', 'Buscopan', 'but', 'by', 'Calcipotriol', 'came', 'can', 'Candesartan', 'Carbamazepine', 'Carbimazole', 'Carbocisteine', 'Carvedilol', 'Cefalexin', 'Champix', 'Chloramphenicol', 'Chlorhexidine', 'Ciprofloxacin', 'Citalopram', 'Clarithromycin', 'Clobetasol', 'Clobetasone', 'Clonazepam', 'Clonidine', 'Clopidogrel', 'Codeine', 'Colecalciferol', 'could', 'Cyanocobalamin', 'Cyclizine', 'Dabigatran', 'Dapagliflozin', 'day', 'Diazepam', 'Diclofenac', 'Digoxin', 'Dihydrocodeine', 'Diltiazem', 'Diphenhydramine', 'Dipyridamole', 'do', 'Docusate', 'Domperidone', 'Donepezil', 'Dosulepin', 'Doxazosin', 'Doxycycline', 'Duloxetine', 'Edoxaban', 'Empagliflozin', 'Enalapril', 'english', 'Eplerenone', 'Erythromycin', 'Escitalopram', 'Esomeprazole', 'even', 'Ezetimibe', 'Felodipine', 'Fentanyl', 'Ferrous fumarate', 'Ferrous sulfate', 'Finasteride', 'find', 'first', 'Flucloxacillin', 'Fluconazole', 'Fluoxetine ', 'Fluticasone ', 'Folic acid', 'for', 'from', 'Furosemide', 'Fusidic acid', 'Fybogel ', 'Gabapentin', 'Gaviscon', 'get', 'give', 'Gliclazide', 'Glimepiride', 'Glyceryl ', 'go', 'Haloperidol', 'have', 'he', 'Heparinoid', 'her', 'here', 'him', 'his', 'how', 'Hydrocortisone', 'Hydroxocobalamin', 'Hydroxychloroquine', 'i', 'Ibuprofen and codeine', 'if', 'in', 'Indapamide', 'Insulin', 'into', 'Irbesartan', 'Isotretinoin gel ', 'it', 'its', 'just', 'Ketoconazole', 'know', 'Labetalol', 'Lactulose', 'Lamotrigine', 'Lansoprazole', 'Latanoprost', 'Lercanidipine', 'Letrozole', 'Levetiracetam', 'Levothyroxine', 'like', 'Linagliptin', 'Lisinopril', 'Lithium', 'look', 'Loperamide', 'Loratadine ', 'Lorazepam', 'Losartan', 'Low-dose aspirin', 'Lymecycline', 'Macrogol', 'make', 'man', 'many', 'me', 'Mebendazole', 'Mebeverine', 'Melatonin', 'Memantine', 'Mesalazine', 'Metformin', 'Methadone', 'Methotrexate', 'Metoclopramide', 'Metoprolol', 'Metronidazole', 'Mirabegron', 'Mirtazapine', 'Molnupiravir', 'Montelukast', 'more', 'Morphine', 'most', 'my', 'Naproxen', 'Nefopam', 'new', 'Nicorandil', 'Nifedipine', 'Nitrofurantoin', 'no', 'Nortriptyline', 'not', 'now', 'Nystatin', 'of', 'Olanzapine', 'Olmesartan', 'Omeprazole', 'on', 'one', 'only', 'or', 'other', 'our', 'out', 'Oxybutynin', 'Oxycodone', 'Pantoprazole', 'Paroxetine', 'Paxlovid', 'people', 'Peppermint oil', 'Perindopril', 'Phenytoin', 'Pioglitazone', 'Pravastatin', 'Pregabalin', 'Prochlorperazine', 'Propranolol', 'Quetiapine', 'Rabeprazole', 'Ramipril', 'Ranitidine', 'Remdesivir ', 'Risedronate', 'Risperidone', 'Rivaroxaban', 'Ropinirole', 'Rosuvastatin', 'Saxagliptin', 'say', 'see', 'Senna', 'Sertraline', 'she', 'Sildenafil', 'Simeticone', 'Simvastatin', 'Sitagliptin', 'so', 'Solifenacin', 'some', 'Sotalol', 'Sotrovimab', 'Spironolactone', 'Sulfasalazine', 'Sumatriptan', 'Tadalafil', 'take', 'Tamsulosin', 'tell', 'Temazepam', 'Terbinafine', 'than', 'that', 'the', 'their', 'them', 'then', 'there', 'these', 'they', 'Thiamine', 'thing', 'think', 'this', 'those', 'Tibolone', 'Ticagrelor', 'time', 'Timolol tablets', 'to', 'Tolterodine', 'Topiramate', 'Tramadol', 'Tranexamic acid', 'Trazodone', 'Trimethoprim', 'two', 'up', 'use', 'used', 'very', 'want', 'we', 'well', 'what', 'when', 'which', 'will', 'with']"
   ]
  },
  {
   "cell_type": "code",
   "execution_count": null,
   "id": "a066d14d",
   "metadata": {},
   "outputs": [],
   "source": [
    "## Labels are cleaned"
   ]
  },
  {
   "cell_type": "code",
   "execution_count": null,
   "id": "6897cdb5",
   "metadata": {},
   "outputs": [],
   "source": [
    "def clean_labels(labels):\n",
    "    cleaned_labels = []\n",
    "    for label in labels:\n",
    "        label = label.split(\" \")[-1].strip()\n",
    "        cleaned_labels.append(label)\n",
    "    return cleaned_labels\n",
    "\n",
    "\n",
    "validation_labels_cleaned = clean_labels(validation_labels)\n",
    "test_labels_cleaned = clean_labels(test_labels)"
   ]
  },
  {
   "cell_type": "code",
   "execution_count": null,
   "id": "ca8f80ca",
   "metadata": {},
   "outputs": [],
   "source": [
    "## Converts the unique characters to unique numbers and autotuning of the paramenters."
   ]
  },
  {
   "cell_type": "code",
   "execution_count": null,
   "id": "5aad459e",
   "metadata": {},
   "outputs": [],
   "source": [
    "AUTOTUNE = tf.data.AUTOTUNE\n",
    "\n",
    "\n",
    "char_to_num = StringLookup(vocabulary=list(characters), mask_token=None)\n",
    "\n",
    "\n",
    "num_to_char = StringLookup(\n",
    "    vocabulary=char_to_num.get_vocabulary(), mask_token=None, invert=True\n",
    ")"
   ]
  },
  {
   "cell_type": "code",
   "execution_count": null,
   "id": "dbf43c21",
   "metadata": {},
   "outputs": [],
   "source": [
    "## Pad's the unwanted area of the image in order to decrease the computation"
   ]
  },
  {
   "cell_type": "code",
   "execution_count": null,
   "id": "36cafd7b",
   "metadata": {},
   "outputs": [],
   "source": [
    "def distortion_free_resize(image, img_size):\n",
    "    w, h = img_size\n",
    "    image = tf.image.resize(image, size=(h, w), preserve_aspect_ratio=True)\n",
    "\n",
    "    pad_height = h - tf.shape(image)[0]\n",
    "    pad_width = w - tf.shape(image)[1]\n",
    "\n",
    "\n",
    "    if pad_height % 2 != 0:\n",
    "        height = pad_height // 2\n",
    "        pad_height_top = height + 1\n",
    "        pad_height_bottom = height\n",
    "    else:\n",
    "        pad_height_top = pad_height_bottom = pad_height // 2\n",
    "\n",
    "    if pad_width % 2 != 0:\n",
    "        width = pad_width // 2\n",
    "        pad_width_left = width + 1\n",
    "        pad_width_right = width\n",
    "    else:\n",
    "        pad_width_left = pad_width_right = pad_width // 2\n",
    "\n",
    "    image = tf.pad(\n",
    "        image,\n",
    "        paddings=[\n",
    "            [pad_height_top, pad_height_bottom],\n",
    "            [pad_width_left, pad_width_right],\n",
    "            [0,0],\n",
    "        ],\n",
    "    )\n",
    "\n",
    "    \n",
    "    return image"
   ]
  },
  {
   "cell_type": "code",
   "execution_count": null,
   "id": "153c3f20",
   "metadata": {},
   "outputs": [],
   "source": [
    "## Images and labels are encoded and make them into unique numbers"
   ]
  },
  {
   "cell_type": "code",
   "execution_count": null,
   "id": "fdfd8a98",
   "metadata": {},
   "outputs": [],
   "source": [
    "batch_size = 64\n",
    "padding_token = 99\n",
    "image_width = 300\n",
    "image_height = 100\n",
    "\n",
    "\n",
    "def preprocess_image(image_path, img_size=(image_width, image_height)):\n",
    "    image = tf.io.read_file(image_path)\n",
    "    image = tf.image.decode_png(image, 1)\n",
    "    image = distortion_free_resize(image, img_size)\n",
    "    image = tf.cast(image, tf.float32) / 255.0\n",
    "    return image\n",
    "\n",
    "\n",
    "def vectorize_label(label):\n",
    "    label = char_to_num(tf.strings.unicode_split(label, input_encoding=\"UTF-8\"))\n",
    "    length = tf.shape(label)[0]\n",
    "    pad_amount = max_len - length\n",
    "    label = tf.pad(label, paddings=[[0, pad_amount]], constant_values=padding_token)\n",
    "    return label\n",
    "\n",
    "\n",
    "def process_images_labels(image_path, label):\n",
    "    image = preprocess_image(image_path)\n",
    "    label = vectorize_label(label)\n",
    "    return {\"image\": image, \"label\": label}\n",
    "\n",
    "\n",
    "def prepare_dataset(image_paths, labels):\n",
    "    dataset = tf.data.Dataset.from_tensor_slices((image_paths, labels)).map(\n",
    "        process_images_labels, num_parallel_calls=AUTOTUNE\n",
    "    )\n",
    "    return dataset.batch(batch_size).cache().prefetch(AUTOTUNE)"
   ]
  },
  {
   "cell_type": "code",
   "execution_count": null,
   "id": "647571b9",
   "metadata": {},
   "outputs": [],
   "source": [
    "train_ds = prepare_dataset(train_img_paths, train_labels_cleaned)\n",
    "validation_ds = prepare_dataset(validation_img_paths, validation_labels_cleaned)\n",
    "test_ds = prepare_dataset(test_img_paths, test_labels_cleaned)"
   ]
  },
  {
   "cell_type": "code",
   "execution_count": null,
   "id": "fbf59dc8",
   "metadata": {},
   "outputs": [],
   "source": [
    "## Display's the preprocessed images"
   ]
  },
  {
   "cell_type": "code",
   "execution_count": null,
   "id": "d6a46bf7",
   "metadata": {},
   "outputs": [],
   "source": [
    "for data in train_ds.take(1):\n",
    "    images, labels = data[\"image\"], data[\"label\"]\n",
    "\n",
    "    _, ax = plt.subplots(4, 4, figsize=(15, 8))\n",
    "\n",
    "    for i in range(16):\n",
    "        img = images[i]\n",
    "        img = (img * 255.0).numpy().clip(0, 255).astype(np.uint8)\n",
    "        img = img[:, :, 0]\n",
    "\n",
    " \n",
    "        label = labels[i]\n",
    "        indices = tf.gather(label, tf.where(tf.math.not_equal(label, padding_token)))\n",
    "\n",
    "        label = tf.strings.reduce_join(num_to_char(indices))\n",
    "        label = label.numpy().decode(\"utf-8\")\n",
    "\n",
    "        ax[i // 4, i % 4].imshow(img, cmap=\"gray\")\n",
    "        ax[i // 4, i % 4].set_title(label)\n",
    "        ax[i // 4, i % 4].axis(\"off\")\n",
    "\n",
    "\n",
    "plt.show()"
   ]
  },
  {
   "cell_type": "code",
   "execution_count": null,
   "id": "f353b6fc",
   "metadata": {},
   "outputs": [],
   "source": [
    "## This class will calculate the loss using custom layers"
   ]
  },
  {
   "cell_type": "code",
   "execution_count": null,
   "id": "bc6f7fd0",
   "metadata": {},
   "outputs": [],
   "source": [
    "class CTCLayer(keras.layers.Layer):\n",
    "    def __init__(self, name=None):\n",
    "        super().__init__(name=name)\n",
    "        self.loss_fn = keras.backend.ctc_batch_cost\n",
    "\n",
    "    def call(self, y_true, y_pred):\n",
    "        batch_len = tf.cast(tf.shape(y_true)[0], dtype=\"int64\")\n",
    "        input_length = tf.cast(tf.shape(y_pred)[1], dtype=\"int64\")\n",
    "        label_length = tf.cast(tf.shape(y_true)[1], dtype=\"int64\")\n",
    "\n",
    "        input_length = input_length * tf.ones(shape=(batch_len, 1), dtype=\"int64\")\n",
    "        label_length = label_length * tf.ones(shape=(batch_len, 1), dtype=\"int64\")\n",
    "        loss = self.loss_fn(y_true, y_pred, input_length, label_length)\n",
    "        self.add_loss(loss)\n",
    "        return y_pred\n",
    "\n",
    "\n",
    "def build_model():\n",
    "\n",
    "    input_img = keras.Input(shape=(image_width, image_height, 1), name=\"image\")\n",
    "    labels = keras.layers.Input(name=\"label\", shape=(None,))\n",
    "\n",
    "\n",
    "    x = keras.layers.Conv2D(\n",
    "        32,\n",
    "        (3, 3),\n",
    "        activation=\"relu\",\n",
    "        kernel_initializer=\"he_normal\",\n",
    "        padding=\"same\",\n",
    "        name=\"Conv1\",\n",
    "    )(input_img)\n",
    "    x = keras.layers.MaxPooling2D((2, 2), name=\"pool1\")(x)\n",
    "\n",
    "\n",
    "    x = keras.layers.Conv2D(\n",
    "        64,\n",
    "        (3, 3),\n",
    "        activation=\"relu\",\n",
    "        kernel_initializer=\"he_normal\",\n",
    "        padding=\"same\",\n",
    "        name=\"Conv2\",\n",
    "    )(x)\n",
    "    x = keras.layers.MaxPooling2D((2, 2), name=\"pool2\")(x)\n",
    "\n",
    "\n",
    "    new_shape = ((image_width // 4), (image_height // 4) * 64)\n",
    "    x = keras.layers.Reshape(target_shape=new_shape, name=\"reshape\")(x)\n",
    "    x = keras.layers.Dense(64, activation=\"relu\", name=\"dense1\")(x)\n",
    "    x = keras.layers.Dropout(0.2)(x)\n",
    "\n",
    "\n",
    "    x = keras.layers.Bidirectional(\n",
    "        keras.layers.LSTM(128, return_sequences=True, dropout=0.25)\n",
    "    )(x)\n",
    "    x = keras.layers.Bidirectional(\n",
    "        keras.layers.LSTM(64, return_sequences=True, dropout=0.25)\n",
    "    )(x)\n",
    "\n",
    "\n",
    "    x = keras.layers.Dense(\n",
    "        len(char_to_num.get_vocabulary()) + 2, activation=\"softmax\", name=\"dense2\"\n",
    "    )(x)\n",
    "\n",
    "\n",
    "    output = CTCLayer(name=\"ctc_loss\")(labels, x)\n",
    "\n",
    "\n",
    "    model = keras.models.Model(\n",
    "        inputs=[input_img, labels], outputs=output, name=\"handwriting_recognizer\"\n",
    "    )\n",
    "\n",
    "    opt = keras.optimizers.Adam()\n",
    "\n",
    "    model.compile(optimizer=opt)\n",
    "    return model\n",
    "\n",
    "\n",
    "\n",
    "model = build_model()\n",
    "model.summary()"
   ]
  },
  {
   "cell_type": "code",
   "execution_count": null,
   "id": "06869ee7",
   "metadata": {},
   "outputs": [],
   "source": [
    "validation_images = []\n",
    "validation_labels = []\n",
    "\n",
    "for batch in validation_ds:\n",
    "    validation_images.append(batch[\"image\"])\n",
    "    validation_labels.append(batch[\"label\"])"
   ]
  },
  {
   "cell_type": "code",
   "execution_count": null,
   "id": "16b85ef9",
   "metadata": {},
   "outputs": [],
   "source": [
    "\n",
    "def calculate_edit_distance(labels, predictions):\n",
    "    \n",
    "    saprse_labels = tf.cast(tf.sparse.from_dense(labels), dtype=tf.int64)\n",
    "\n",
    " \n",
    "    input_len = np.ones(predictions.shape[0]) * predictions.shape[1]\n",
    "    predictions_decoded = keras.backend.ctc_decode(\n",
    "        predictions, input_length=input_len, greedy=True\n",
    "    )[0][0][:, :max_len]\n",
    "    sparse_predictions = tf.cast(\n",
    "        tf.sparse.from_dense(predictions_decoded), dtype=tf.int64\n",
    "    )\n",
    "\n",
    "\n",
    "    edit_distances = tf.edit_distance(\n",
    "        sparse_predictions, saprse_labels, normalize=False\n",
    "    )\n",
    "    return tf.reduce_mean(edit_distances)\n",
    "\n",
    "\n",
    "class EditDistanceCallback(keras.callbacks.Callback):\n",
    "    def __init__(self, pred_model):\n",
    "        super().__init__()\n",
    "        self.prediction_model = pred_model\n",
    "\n",
    "    def on_epoch_end(self, epoch, logs=None):\n",
    "        edit_distances = []\n",
    "\n",
    "        for i in range(len(validation_images)):\n",
    "            labels = validation_labels[i]\n",
    "            predictions = self.prediction_model.predict(validation_images[i])\n",
    "            edit_distances.append(calculate_edit_distance(labels, predictions).numpy())\n",
    "\n",
    "        print(\n",
    "            f\"Mean edit distance for epoch {epoch + 1}: {np.mean(edit_distances):.4f}\"\n",
    "        )"
   ]
  },
  {
   "cell_type": "code",
   "execution_count": null,
   "id": "817e4188",
   "metadata": {},
   "outputs": [],
   "source": [
    "## This will train the dataset and calculates the weights based on that."
   ]
  },
  {
   "cell_type": "code",
   "execution_count": null,
   "id": "9d089920",
   "metadata": {},
   "outputs": [],
   "source": [
    "epochs = 50\n",
    "\n",
    "model = build_model()\n",
    "prediction_model = keras.models.Model(\n",
    "    model.get_layer(name=\"image\").input, model.get_layer(name=\"dense2\").output\n",
    ")\n"
   ]
  },
  {
   "cell_type": "code",
   "execution_count": null,
   "id": "9a2e6772",
   "metadata": {},
   "outputs": [],
   "source": [
    "## The code below will predict the text in the test dataset"
   ]
  },
  {
   "cell_type": "code",
   "execution_count": null,
   "id": "a53b6b79",
   "metadata": {},
   "outputs": [],
   "source": [
    "# def predict_text_in_image(model, image_path):\n",
    "#     preprocessed_image = preprocess_image(image_path)\n",
    "#     preprocessed_image = tf.expand_dims(preprocessed_image, axis=0)  # Add batch dimension\n",
    "\n",
    "#     predictions = model.predict(preprocessed_image)\n",
    "#     results = keras.backend.ctc_decode(\n",
    "#         predictions, input_length=np.ones(predictions.shape[0]) * predictions.shape[1], greedy=True\n",
    "#     )[0][0][:, :max_len]\n",
    "\n",
    "#     # Convert the sparse tensor to a string\n",
    "# #     predicted_text = \"\".join([str(num_to_char(int(idx))) for idx in predictions_decoded.numpy()[0]])\n",
    "#     output_text = []\n",
    "#     for res in results:\n",
    "#         res = tf.gather(res, tf.where(tf.math.not_equal(res, -1)))\n",
    "#         res = tf.strings.reduce_join(num_to_char(res)).numpy().decode(\"utf-8\")\n",
    "#         output_text.append(res)\n",
    "#     return output_text\n",
    "\n",
    "# image_path_to_predict = r'C:\\Users\\gopal\\Downloads\\Simvastatin.jpg'\n",
    "# predicted_text = predict_text_in_image(prediction_model, image_path_to_predict)\n",
    "# print(\"Predicted Text:\", *predicted_text)"
   ]
  }
 ],
 "metadata": {
  "kernelspec": {
   "display_name": "Python 3 (ipykernel)",
   "language": "python",
   "name": "python3"
  },
  "language_info": {
   "codemirror_mode": {
    "name": "ipython",
    "version": 3
   },
   "file_extension": ".py",
   "mimetype": "text/x-python",
   "name": "python",
   "nbconvert_exporter": "python",
   "pygments_lexer": "ipython3",
   "version": "3.11.5"
  }
 },
 "nbformat": 4,
 "nbformat_minor": 5
}
