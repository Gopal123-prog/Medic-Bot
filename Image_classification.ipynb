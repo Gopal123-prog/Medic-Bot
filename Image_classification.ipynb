{
 "cells": [
  {
   "cell_type": "code",
   "execution_count": null,
   "id": "a88d2748",
   "metadata": {},
   "outputs": [],
   "source": [
    "## Importing the necessary libraries"
   ]
  },
  {
   "cell_type": "code",
   "execution_count": null,
   "id": "987ced10",
   "metadata": {},
   "outputs": [],
   "source": [
    "import os\n",
    "import numpy as np\n",
    "import glob\n",
    "import shutil\n",
    "import matplotlib.pyplot as plt\n",
    "\n",
    "try:\n",
    "  %tensorflow_version 2.x\n",
    "except Exception:\n",
    "  pass\n",
    "\n",
    "import tensorflow as tf\n",
    "from tensorflow.keras.preprocessing.image import ImageDataGenerator\n",
    "from tensorflow.keras.applications import InceptionV3\n",
    "from tensorflow.keras import layers, models"
   ]
  },
  {
   "cell_type": "code",
   "execution_count": null,
   "id": "f33cab23",
   "metadata": {},
   "outputs": [],
   "source": [
    "## preparing the training dataset as well as validation dataset"
   ]
  },
  {
   "cell_type": "code",
   "execution_count": null,
   "id": "f4e9972d",
   "metadata": {},
   "outputs": [],
   "source": [
    "data_dir = r'C:\\Users\\gopal\\Downloads\\final_year_project\\Indian_Medicinal_Leaves_Image_Datasets\\Medicinal_Leaf_dataset\\train'\n",
    "classes = [img_folder.name for img_folder in os.scandir(data_dir) if img_folder.is_dir()]\n",
    "\n",
    "# for cl in classes:\n",
    "#   imgs_path = os.path.join(data_dir, cl) \n",
    "#   imgs = glob.glob(imgs_path + '/*.jpg')\n",
    "#   print(f\"{cl}: {len(imgs)} Images\")\n",
    "#   train, val = imgs[:round(len(imgs) * 0.8)], imgs[round(len(imgs) * 0.8):] \n",
    "\n",
    "#   for t in train:\n",
    "#     if not os.path.exists(os.path.join(data_dir, 'train', cl)): \n",
    "#       os.makedirs(os.path.join(data_dir, 'train', cl)) \n",
    "#     shutil.move(t, os.path.join(data_dir, 'train', cl))\n",
    "\n",
    "#   for v in val:\n",
    "#     if not os.path.exists(os.path.join(data_dir, 'val', cl)): \n",
    "#       os.makedirs(os.path.join(data_dir, 'val', cl)) \n",
    "#     shutil.move(v, os.path.join(data_dir, 'val', cl))\n"
   ]
  },
  {
   "cell_type": "code",
   "execution_count": null,
   "id": "0bb1fe0e",
   "metadata": {},
   "outputs": [],
   "source": [
    "## Paths to training and validation datasets"
   ]
  },
  {
   "cell_type": "code",
   "execution_count": null,
   "id": "fb3518d9",
   "metadata": {},
   "outputs": [],
   "source": [
    "train_dir = data_dir\n",
    "val_dir = r'C:\\Users\\gopal\\Downloads\\final_year_project\\Indian_Medicinal_Leaves_Image_Datasets\\Medicinal_Leaf_dataset\\val'"
   ]
  },
  {
   "cell_type": "code",
   "execution_count": null,
   "id": "ab1d31b0",
   "metadata": {},
   "outputs": [],
   "source": [
    "BATCH_SIZE = 100\n",
    "IMG_SHAPE = 299"
   ]
  },
  {
   "cell_type": "code",
   "execution_count": null,
   "id": "bcde5aa7",
   "metadata": {},
   "outputs": [],
   "source": [
    "## Display the images in the dataset before augmentation"
   ]
  },
  {
   "cell_type": "code",
   "execution_count": null,
   "id": "e0d18198",
   "metadata": {},
   "outputs": [],
   "source": [
    "def PlotImages(imgs):\n",
    "  dim = 3 #for a 3x3 of images\n",
    "  plt.figure(figsize=(10, 10))\n",
    "  for i in range(dim**2):\n",
    "    plt.subplot(dim, dim, i+1)\n",
    "    plt.imshow(imgs[i])"
   ]
  },
  {
   "cell_type": "code",
   "execution_count": null,
   "id": "58c6fd90",
   "metadata": {},
   "outputs": [],
   "source": [
    "## Code generates augmented image data for training a neural network model"
   ]
  },
  {
   "cell_type": "code",
   "execution_count": null,
   "id": "70da061b",
   "metadata": {},
   "outputs": [],
   "source": [
    "img_gen_train = ImageDataGenerator(\n",
    "    rescale=1./255,\n",
    "    rotation_range=45,\n",
    "    horizontal_flip=True,\n",
    "    zoom_range=0.5,\n",
    "    height_shift_range=0.15,\n",
    "    width_shift_range=0.15,\n",
    "    brightness_range=(0.5, 1.5),\n",
    "    fill_mode='wrap'    \n",
    ")\n",
    "\n",
    "train_data_gen = img_gen_train.flow_from_directory(\n",
    "    batch_size=BATCH_SIZE,\n",
    "    directory=train_dir,\n",
    "    target_size=(IMG_SHAPE, IMG_SHAPE),\n",
    "    class_mode='categorical'\n",
    ")\n",
    "\n",
    "class_indices = train_data_gen.class_indices\n",
    "\n",
    "class_mapping = {v: k for k, v in class_indices.items()}\n",
    "print(class_mapping)"
   ]
  },
  {
   "cell_type": "code",
   "execution_count": null,
   "id": "e909806f",
   "metadata": {},
   "outputs": [],
   "source": [
    "## Visualizing the augumented data "
   ]
  },
  {
   "cell_type": "code",
   "execution_count": null,
   "id": "5ffad476",
   "metadata": {},
   "outputs": [],
   "source": [
    "# viz_imgs = [train_data_gen[0][0][0] for i in range(9)]\n",
    "# PlotImages(viz_imgs)"
   ]
  },
  {
   "cell_type": "code",
   "execution_count": null,
   "id": "72561f4e",
   "metadata": {},
   "outputs": [],
   "source": [
    "img_gen_val = ImageDataGenerator(rescale=1./255)\n",
    "val_data_gen = img_gen_val.flow_from_directory(batch_size=BATCH_SIZE,\n",
    "                                               directory=val_dir,\n",
    "                                               target_size=(IMG_SHAPE, IMG_SHAPE),\n",
    "                                               class_mode='categorical')"
   ]
  },
  {
   "cell_type": "code",
   "execution_count": null,
   "id": "efa3f3b0",
   "metadata": {},
   "outputs": [],
   "source": [
    "## Training the neural network model"
   ]
  },
  {
   "cell_type": "code",
   "execution_count": null,
   "id": "ac119e42",
   "metadata": {},
   "outputs": [],
   "source": [
    "from tensorflow.keras.callbacks import EarlyStopping\n",
    "\n",
    "\n",
    "base_model = InceptionV3(weights='imagenet', include_top=False, input_shape=(IMG_SHAPE, IMG_SHAPE, 3))\n",
    "\n",
    "for i in base_model.layers:\n",
    "    i.trainable = False   \n",
    "\n",
    "model = models.Sequential()\n",
    "model.add(base_model)\n",
    "model.add(layers.GlobalAveragePooling2D())\n",
    "model.add(layers.Dense(512, activation='relu'))\n",
    "model.add(layers.Dropout(0.2))\n",
    "model.add(layers.Dense(len(classes), activation='softmax'))\n",
    "\n",
    "\n",
    "model.compile(optimizer='adam',\n",
    "              loss='categorical_crossentropy',\n",
    "              metrics=['accuracy'])\n",
    "\n",
    "history = model.fit(\n",
    "    train_data_gen,\n",
    "    steps_per_epoch=train_data_gen.samples // BATCH_SIZE,\n",
    "    epochs=50,\n",
    ")"
   ]
  },
  {
   "cell_type": "code",
   "execution_count": null,
   "id": "d758b05e",
   "metadata": {},
   "outputs": [],
   "source": [
    "## Plotting the accuracy and validation graph"
   ]
  },
  {
   "cell_type": "code",
   "execution_count": null,
   "id": "f239179c",
   "metadata": {},
   "outputs": [],
   "source": [
    "import matplotlib.pyplot as plt\n",
    "\n",
    "def plot_training_history(history):\n",
    "    acc = history.history['accuracy']\n",
    "    val_acc = history.history['val_accuracy']\n",
    "    loss = history.history['loss']\n",
    "    val_loss = history.history['val_loss']\n",
    "\n",
    "    epochs_range = range(1, len(acc) + 1)\n",
    "\n",
    "    plt.figure(figsize=(12, 4))\n",
    "\n",
    "    # Plot Accuracy\n",
    "    plt.subplot(1, 2, 1)\n",
    "    plt.plot(epochs_range, acc, label='Training Accuracy')\n",
    "    plt.plot(epochs_range, val_acc, label='Validation Accuracy')\n",
    "    plt.xlabel('Epochs')\n",
    "    plt.ylabel('Accuracy')\n",
    "    plt.title('Training and Validation Accuracy')\n",
    "    plt.legend()\n",
    "\n",
    "    # Plot Loss\n",
    "    plt.subplot(1, 2, 2)\n",
    "    plt.plot(epochs_range, loss, label='Training Loss')\n",
    "    plt.plot(epochs_range, val_loss, label='Validation Loss')\n",
    "    plt.xlabel('Epochs')\n",
    "    plt.ylabel('Loss')\n",
    "    plt.title('Training and Validation Loss')\n",
    "    plt.legend()\n",
    "\n",
    "    plt.tight_layout()\n",
    "    plt.show()\n",
    "\n",
    "plot_training_history(history)\n",
    "model.summary()"
   ]
  },
  {
   "cell_type": "code",
   "execution_count": null,
   "id": "b7ea2789",
   "metadata": {},
   "outputs": [],
   "source": [
    "## Saves the model to the local system"
   ]
  },
  {
   "cell_type": "code",
   "execution_count": null,
   "id": "e130e7a3",
   "metadata": {},
   "outputs": [],
   "source": [
    "model.save('image_classification.keras')"
   ]
  }
 ],
 "metadata": {
  "kernelspec": {
   "display_name": "Python 3 (ipykernel)",
   "language": "python",
   "name": "python3"
  },
  "language_info": {
   "codemirror_mode": {
    "name": "ipython",
    "version": 3
   },
   "file_extension": ".py",
   "mimetype": "text/x-python",
   "name": "python",
   "nbconvert_exporter": "python",
   "pygments_lexer": "ipython3",
   "version": "3.11.5"
  }
 },
 "nbformat": 4,
 "nbformat_minor": 5
}
